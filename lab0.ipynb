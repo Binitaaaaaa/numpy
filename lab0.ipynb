{
  "nbformat": 4,
  "nbformat_minor": 0,
  "metadata": {
    "colab": {
      "provenance": [],
      "authorship_tag": "ABX9TyOJQU1+m7i4BuVmPkzhwduu",
      "include_colab_link": true
    },
    "kernelspec": {
      "name": "python3",
      "display_name": "Python 3"
    },
    "language_info": {
      "name": "python"
    }
  },
  "cells": [
    {
      "cell_type": "markdown",
      "metadata": {
        "id": "view-in-github",
        "colab_type": "text"
      },
      "source": [
        "<a href=\"https://colab.research.google.com/github/Binitaaaaaa/numpy/blob/main/lab0.ipynb\" target=\"_parent\"><img src=\"https://colab.research.google.com/assets/colab-badge.svg\" alt=\"Open In Colab\"/></a>"
      ]
    },
    {
      "cell_type": "code",
      "execution_count": 1,
      "metadata": {
        "colab": {
          "base_uri": "https://localhost:8080/"
        },
        "id": "u-QMi5iEBRJ0",
        "outputId": "18e9d459-2290-4a6d-c1ac-2437bf83cac7"
      },
      "outputs": [
        {
          "output_type": "stream",
          "name": "stdout",
          "text": [
            "1-D Array:\n",
            "[1 2 3 4 5 6]\n",
            "\n",
            "2-D Array:\n",
            "[[ 7  8  9]\n",
            " [10 11 12]]\n",
            "\n",
            "Reshaped 1-D to 2-D Array:\n",
            "[[1 2 3]\n",
            " [4 5 6]]\n",
            "\n",
            "Sum of Arrays:\n",
            "[[ 8 10 12]\n",
            " [14 16 18]]\n",
            "\n",
            "Shape of 2-D Array:\n",
            "(2, 3)\n"
          ]
        }
      ],
      "source": [
        "import numpy as np\n",
        "\n",
        "# Create a 1-D array\n",
        "array_1d = np.array([1, 2, 3, 4, 5, 6])\n",
        "print(\"1-D Array:\")\n",
        "print(array_1d)\n",
        "\n",
        "# Create a 2-D array\n",
        "array_2d = np.array([[7, 8, 9], [10, 11, 12]])\n",
        "print(\"\\n2-D Array:\")\n",
        "print(array_2d)\n",
        "\n",
        "# Convert 1-D array to 2-D using reshape()\n",
        "array_1d_to_2d = array_1d.reshape(2, 3)  # Reshape to 2 rows and 3 columns\n",
        "print(\"\\nReshaped 1-D to 2-D Array:\")\n",
        "print(array_1d_to_2d)\n",
        "\n",
        "# Add two arrays\n",
        "array_sum = array_1d_to_2d + array_2d\n",
        "print(\"\\nSum of Arrays:\")\n",
        "print(array_sum)\n",
        "\n",
        "# Find the shape of a 2-D array\n",
        "shape_of_2d = array_2d.shape\n",
        "print(\"\\nShape of 2-D Array:\")\n",
        "print(shape_of_2d)\n"
      ]
    },
    {
      "cell_type": "code",
      "source": [
        "import numpy as np\n",
        "\n",
        "# Create a 2-D array\n",
        "array_2d = np.array([[7, 8, 9], [10, 11, 12]])\n",
        "\n",
        "# Access the last data of the 2-D array\n",
        "last_element = array_2d[-1, -1]  # Use negative indexing: -1 for the last row, -1 for the last column\n",
        "\n",
        "print(\"2-D Array:\")\n",
        "print(array_2d)\n",
        "\n",
        "print(\"\\nLast Element of the 2-D Array:\")\n",
        "print(last_element)\n"
      ],
      "metadata": {
        "colab": {
          "base_uri": "https://localhost:8080/"
        },
        "id": "S6B07GNABSqx",
        "outputId": "d73da287-bb3c-4930-884b-f82ad7fdd1c5"
      },
      "execution_count": 2,
      "outputs": [
        {
          "output_type": "stream",
          "name": "stdout",
          "text": [
            "2-D Array:\n",
            "[[ 7  8  9]\n",
            " [10 11 12]]\n",
            "\n",
            "Last Element of the 2-D Array:\n",
            "12\n"
          ]
        }
      ]
    },
    {
      "cell_type": "code",
      "source": [
        "import numpy as np\n",
        "\n",
        "# Create a 1-D array\n",
        "array_1d = np.array([1, 2, 3, 4, 5, 6])\n",
        "print(\"1-D Array:\")\n",
        "print(array_1d)\n",
        "\n",
        "# Slice the 1-D array\n",
        "slice_1d = array_1d[1:4]  # Extract elements from index 1 to 3 (4 is exclusive)\n",
        "print(\"\\nSliced 1-D Array (index 1 to 3):\")\n",
        "print(slice_1d)\n",
        "\n",
        "# Negative slicing on 1-D array\n",
        "negative_slice_1d = array_1d[-3:]  # Extract the last three elements\n",
        "print(\"\\nNegative Sliced 1-D Array (last 3 elements):\")\n",
        "print(negative_slice_1d)\n",
        "\n",
        "# Create a 2-D array\n",
        "array_2d = np.array([[7, 8, 9], [10, 11, 12]])\n",
        "print(\"\\n2-D Array:\")\n",
        "print(array_2d)\n",
        "\n",
        "# Slice the 2-D array\n",
        "slice_2d = array_2d[:, 1:3]  # Extract columns 1 and 2 for all rows\n",
        "print(\"\\nSliced 2-D Array (columns 1 and 2):\")\n",
        "print(slice_2d)\n",
        "\n",
        "# Negative slicing on 2-D array\n",
        "negative_slice_2d = array_2d[-1, -2:]  # Extract the last row and last two elements\n",
        "print(\"\\nNegative Sliced 2-D Array (last row, last 2 elements):\")\n",
        "print(negative_slice_2d)\n"
      ],
      "metadata": {
        "colab": {
          "base_uri": "https://localhost:8080/"
        },
        "id": "28HgWayKW859",
        "outputId": "13701914-5c49-4f57-d8d8-287d61d4e55c"
      },
      "execution_count": 3,
      "outputs": [
        {
          "output_type": "stream",
          "name": "stdout",
          "text": [
            "1-D Array:\n",
            "[1 2 3 4 5 6]\n",
            "\n",
            "Sliced 1-D Array (index 1 to 3):\n",
            "[2 3 4]\n",
            "\n",
            "Negative Sliced 1-D Array (last 3 elements):\n",
            "[4 5 6]\n",
            "\n",
            "2-D Array:\n",
            "[[ 7  8  9]\n",
            " [10 11 12]]\n",
            "\n",
            "Sliced 2-D Array (columns 1 and 2):\n",
            "[[ 8  9]\n",
            " [11 12]]\n",
            "\n",
            "Negative Sliced 2-D Array (last row, last 2 elements):\n",
            "[11 12]\n"
          ]
        }
      ]
    },
    {
      "cell_type": "code",
      "source": [
        "import numpy as np\n",
        "\n",
        "# Create a 1-D array\n",
        "array_1d = np.array([1, 3, 5, 7, 9, 11])\n",
        "print(\"1-D Array:\")\n",
        "print(array_1d)\n",
        "\n",
        "# Use where() to find indices of elements that satisfy a condition\n",
        "indices_where = np.where(array_1d > 5)  # Find indices of elements greater than 5\n",
        "print(\"\\nIndices where elements are greater than 5:\")\n",
        "print(indices_where)\n",
        "print(\"Elements greater than 5:\")\n",
        "print(array_1d[indices_where])\n",
        "\n",
        "# Use searchsorted() to find the insertion index for a value\n",
        "sorted_index = np.searchsorted(array_1d, 6)  # Find where 6 would fit in the sorted array\n",
        "print(\"\\nIndex where 6 can be inserted to maintain sorted order:\")\n",
        "print(sorted_index)\n",
        "\n",
        "# Create a 2-D array\n",
        "array_2d = np.array([[10, 20, 30], [40, 50, 60], [70, 80, 90]])\n",
        "print(\"\\n2-D Array:\")\n",
        "print(array_2d)\n",
        "\n",
        "# Use where() to find indices in a 2-D array\n",
        "indices_2d_where = np.where(array_2d > 50)  # Find where elements are greater than 50\n",
        "print(\"\\nIndices where elements are greater than 50 (row, column):\")\n",
        "print(indices_2d_where)\n",
        "print(\"Elements greater than 50:\")\n",
        "print(array_2d[indices_2d_where])\n"
      ],
      "metadata": {
        "colab": {
          "base_uri": "https://localhost:8080/"
        },
        "id": "IbjeRw6HXBW2",
        "outputId": "29f5d977-c0de-478b-d188-2c0e5b696cf8"
      },
      "execution_count": 4,
      "outputs": [
        {
          "output_type": "stream",
          "name": "stdout",
          "text": [
            "1-D Array:\n",
            "[ 1  3  5  7  9 11]\n",
            "\n",
            "Indices where elements are greater than 5:\n",
            "(array([3, 4, 5]),)\n",
            "Elements greater than 5:\n",
            "[ 7  9 11]\n",
            "\n",
            "Index where 6 can be inserted to maintain sorted order:\n",
            "3\n",
            "\n",
            "2-D Array:\n",
            "[[10 20 30]\n",
            " [40 50 60]\n",
            " [70 80 90]]\n",
            "\n",
            "Indices where elements are greater than 50 (row, column):\n",
            "(array([1, 2, 2, 2]), array([2, 0, 1, 2]))\n",
            "Elements greater than 50:\n",
            "[60 70 80 90]\n"
          ]
        }
      ]
    },
    {
      "cell_type": "code",
      "source": [
        "import numpy as np\n",
        "from scipy import stats\n",
        "\n",
        "# Create a 1-D array\n",
        "data = np.array([1, 2, 3, 4, 5, 5, 6, 7, 8, 9])\n",
        "print(\"1-D Data:\")\n",
        "print(data)\n",
        "\n",
        "# Calculate mean\n",
        "mean = np.mean(data)\n",
        "print(\"\\nMean:\")\n",
        "print(mean)\n",
        "\n",
        "# Calculate median\n",
        "median = np.median(data)\n",
        "print(\"\\nMedian:\")\n",
        "print(median)\n",
        "\n",
        "# Calculate mode\n",
        "mode_result = stats.mode(data, keepdims=True)  # Explicitly keep the dimension if needed\n",
        "mode_value = mode_result.mode.item()           # Extract scalar mode value\n",
        "mode_count = mode_result.count.item()          # Extract scalar count value\n",
        "print(\"\\nMode:\")\n",
        "print(mode_value)  # Mode value\n",
        "print(\"Mode count:\", mode_count)  # Frequency of the mode\n",
        "\n",
        "# Calculate standard deviation\n",
        "std_dev = np.std(data)\n",
        "print(\"\\nStandard Deviation:\")\n",
        "print(std_dev)\n",
        "\n",
        "# Calculate variance\n",
        "variance = np.var(data)\n",
        "print(\"\\nVariance:\")\n",
        "print(variance)\n",
        "\n",
        "# Calculate Mean Squared Error (MSE)\n",
        "true_values = np.array([2, 3, 4, 5, 6, 6, 7, 8, 9, 10])  # Example true values\n",
        "mse = np.mean((data - true_values) ** 2)\n",
        "print(\"\\nMean Squared Error (MSE):\")\n",
        "print(mse)\n",
        "\n",
        "# Calculate Root Mean Squared Error (RMSE)\n",
        "rmse = np.sqrt(mse)\n",
        "print(\"\\nRoot Mean Squared Error (RMSE):\")\n",
        "print(rmse)\n"
      ],
      "metadata": {
        "colab": {
          "base_uri": "https://localhost:8080/"
        },
        "id": "IgAO3hMjXPz9",
        "outputId": "46931669-f27a-444c-a82e-8f29d32b3812"
      },
      "execution_count": 7,
      "outputs": [
        {
          "output_type": "stream",
          "name": "stdout",
          "text": [
            "1-D Data:\n",
            "[1 2 3 4 5 5 6 7 8 9]\n",
            "\n",
            "Mean:\n",
            "5.0\n",
            "\n",
            "Median:\n",
            "5.0\n",
            "\n",
            "Mode:\n",
            "5\n",
            "Mode count: 2\n",
            "\n",
            "Standard Deviation:\n",
            "2.449489742783178\n",
            "\n",
            "Variance:\n",
            "6.0\n",
            "\n",
            "Mean Squared Error (MSE):\n",
            "1.0\n",
            "\n",
            "Root Mean Squared Error (RMSE):\n",
            "1.0\n"
          ]
        }
      ]
    },
    {
      "cell_type": "code",
      "source": [
        "import pandas as pd\n",
        "import numpy as np\n",
        "\n",
        "# Create NumPy arrays for data\n",
        "names = np.array(['Alice', 'Bob', 'Charlie', 'David'])\n",
        "ages = np.array([25, 30, 35, 40])\n",
        "salaries = np.array([50000, 60000, 70000, 80000])\n",
        "\n",
        "# Create a dictionary where keys are column names and values are NumPy arrays\n",
        "data = {\n",
        "    'Name': names,\n",
        "    'Age': ages,\n",
        "    'Salary': salaries\n",
        "}\n",
        "\n",
        "# Create a DataFrame using the dictionary\n",
        "df = pd.DataFrame(data)\n",
        "\n",
        "# Display the DataFrame\n",
        "print(\"DataFrame created using dictionaries and NumPy arrays:\")\n",
        "print(df)\n"
      ],
      "metadata": {
        "colab": {
          "base_uri": "https://localhost:8080/"
        },
        "id": "V_JpguvFYAhY",
        "outputId": "c1991440-d330-4a3f-ced3-f7a1936757c0"
      },
      "execution_count": 8,
      "outputs": [
        {
          "output_type": "stream",
          "name": "stdout",
          "text": [
            "DataFrame created using dictionaries and NumPy arrays:\n",
            "      Name  Age  Salary\n",
            "0    Alice   25   50000\n",
            "1      Bob   30   60000\n",
            "2  Charlie   35   70000\n",
            "3    David   40   80000\n"
          ]
        }
      ]
    }
  ]
}