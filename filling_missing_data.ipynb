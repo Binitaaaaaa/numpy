{
  "nbformat": 4,
  "nbformat_minor": 0,
  "metadata": {
    "colab": {
      "provenance": [],
      "mount_file_id": "1uLK71lChyrPWPlLyxPpQPWRPmzJHWYI3",
      "authorship_tag": "ABX9TyNln5MO7H7oc0TGOXK32VcX",
      "include_colab_link": true
    },
    "kernelspec": {
      "name": "python3",
      "display_name": "Python 3"
    },
    "language_info": {
      "name": "python"
    }
  },
  "cells": [
    {
      "cell_type": "markdown",
      "metadata": {
        "id": "view-in-github",
        "colab_type": "text"
      },
      "source": [
        "<a href=\"https://colab.research.google.com/github/Binitaaaaaa/numpy/blob/main/filling_missing_data.ipynb\" target=\"_parent\"><img src=\"https://colab.research.google.com/assets/colab-badge.svg\" alt=\"Open In Colab\"/></a>"
      ]
    },
    {
      "cell_type": "code",
      "execution_count": null,
      "metadata": {
        "colab": {
          "base_uri": "https://localhost:8080/"
        },
        "id": "PaYl7xo1DA96",
        "outputId": "54cd873e-26b4-4c1a-a298-162b3478ce22"
      },
      "outputs": [
        {
          "output_type": "stream",
          "name": "stdout",
          "text": [
            "   ID    Name  Age   Location  Gender_female  Gender_male\n",
            "0   1     ram   25  kathmandu          False         True\n",
            "1   2   shyam   20  kathmandu          False         True\n",
            "2   3  kamala   33    pokhara           True        False\n",
            "3   4  bimala   34    pokhara           True        False\n",
            "4   5    hari   31     butwal          False         True\n",
            "   ID    Name  Age   Location  Gender\n",
            "0   1     ram   25  kathmandu    male\n",
            "1   2   shyam   20  kathmandu    male\n",
            "2   3  kamala   33    pokhara  female\n",
            "3   4  bimala   34    pokhara  female\n",
            "4   5    hari   31     butwal    male\n"
          ]
        }
      ],
      "source": [
        "import pandas as pd\n",
        "import numpy as np\n",
        "from sklearn.preprocessing import LabelEncoder\n",
        "#data creation\n",
        "data = {\n",
        "  \"ID\": [1,2,3,4,5],\n",
        "  \"Name\": ['ram','shyam','kamala','bimala','hari'],\n",
        "    \"Age\":[25,20,33,34,31],\n",
        "    \"Location\":['kathmandu','kathmandu','pokhara','pokhara','butwal'],\n",
        "    \"Gender\":['male','male','female','female','male']\n",
        "}\n",
        "value={\n",
        "    'kathmandu':101,\n",
        "    'pokhara':103,\n",
        "    'butwal':105\n",
        "}\n",
        "#converting the data intoo dataframe\n",
        "df = pd.DataFrame(data)\n",
        "# transforming code __ the gender column splits as gender_male and gender_female\n",
        "# if the row value matches the column name it becomes 1 otherwise 0\n",
        "df_transform=pd.get_dummies(df,columns=['Gender'])\n",
        "print(df_transform)\n",
        "print(df)\n"
      ]
    },
    {
      "cell_type": "code",
      "source": [
        " # this method is simpler than hot-transforming it converts male-0 and female-1\n",
        "le=LabelEncoder()\n",
        "df['Gender']=le.fit_transform(df['Gender'])\n",
        "df['Location']=df['Location'].map(value)\n",
        "location=df['Location'].unique()\n",
        "cols=df.columns\n",
        "print(df)\n",
        "print(cols)\n",
        "print(location)\n",
        "print(df.info())\n",
        "print(df.describe())"
      ],
      "metadata": {
        "colab": {
          "base_uri": "https://localhost:8080/"
        },
        "id": "Rf08BKgzA6FK",
        "outputId": "07daf854-eec9-4524-98f7-d38010d931ec"
      },
      "execution_count": null,
      "outputs": [
        {
          "output_type": "stream",
          "name": "stdout",
          "text": [
            "   ID    Name  Age  Location  Gender\n",
            "0   1     ram   25       101       1\n",
            "1   2   shyam   20       101       1\n",
            "2   3  kamala   33       103       0\n",
            "3   4  bimala   34       103       0\n",
            "4   5    hari   31       105       1\n",
            "Index(['ID', 'Name', 'Age', 'Location', 'Gender'], dtype='object')\n",
            "[101 103 105]\n",
            "<class 'pandas.core.frame.DataFrame'>\n",
            "RangeIndex: 5 entries, 0 to 4\n",
            "Data columns (total 5 columns):\n",
            " #   Column    Non-Null Count  Dtype \n",
            "---  ------    --------------  ----- \n",
            " 0   ID        5 non-null      int64 \n",
            " 1   Name      5 non-null      object\n",
            " 2   Age       5 non-null      int64 \n",
            " 3   Location  5 non-null      int64 \n",
            " 4   Gender    5 non-null      int64 \n",
            "dtypes: int64(4), object(1)\n",
            "memory usage: 328.0+ bytes\n",
            "None\n",
            "             ID       Age   Location    Gender\n",
            "count  5.000000   5.00000    5.00000  5.000000\n",
            "mean   3.000000  28.60000  102.60000  0.600000\n",
            "std    1.581139   5.94138    1.67332  0.547723\n",
            "min    1.000000  20.00000  101.00000  0.000000\n",
            "25%    2.000000  25.00000  101.00000  0.000000\n",
            "50%    3.000000  31.00000  103.00000  1.000000\n",
            "75%    4.000000  33.00000  103.00000  1.000000\n",
            "max    5.000000  34.00000  105.00000  1.000000\n"
          ]
        }
      ]
    },
    {
      "cell_type": "code",
      "source": [
        "import pandas as pd\n",
        "import numpy as np\n",
        "data = {\n",
        "  \"ID\": [1,2,3,4,5],\n",
        "  \"Name\": ['ram','shyam','kamala','bimala','hari'],\n",
        "    \"Age\":[25,20,np.nan,34,31],\n",
        "    \"Location\":['kathmandu','kathmandu','pokhara','pokhara',np.NaN],\n",
        "    \"Salary\":[35000,36000,63000,np.NaN,50000]\n",
        "}\n",
        "df = pd.DataFrame(data)\n",
        "mean=df['Age'].mean()\n",
        "print(mean)\n",
        "df.fillna({'Age':mean},inplace= True)\n",
        "print(df)"
      ],
      "metadata": {
        "colab": {
          "base_uri": "https://localhost:8080/"
        },
        "id": "tilo2XsBQANx",
        "outputId": "f05068ce-f3aa-44a6-c415-5add773fe6dc"
      },
      "execution_count": null,
      "outputs": [
        {
          "output_type": "stream",
          "name": "stdout",
          "text": [
            "27.5\n",
            "   ID    Name   Age   Location   Salary\n",
            "0   1     ram  25.0  kathmandu  35000.0\n",
            "1   2   shyam  20.0  kathmandu  36000.0\n",
            "2   3  kamala  27.5    pokhara  63000.0\n",
            "3   4  bimala  34.0    pokhara      NaN\n",
            "4   5    hari  31.0        NaN  50000.0\n"
          ]
        }
      ]
    },
    {
      "cell_type": "code",
      "source": [
        "\n",
        "\n",
        "# Calculating the median\n",
        "median = df['Salary'].median()\n",
        "\n",
        "# Filling missing values in the 'Salary' column with the calculated median\n",
        "df.fillna({'Salary': median}, inplace=True)\n",
        "\n",
        "# Printing the resulting DataFrame to verify changes\n",
        "print(df)\n"
      ],
      "metadata": {
        "colab": {
          "base_uri": "https://localhost:8080/"
        },
        "id": "oiS-S7p8TX4l",
        "outputId": "a3388c8e-088d-4da1-ae91-feb047310040"
      },
      "execution_count": null,
      "outputs": [
        {
          "output_type": "stream",
          "name": "stdout",
          "text": [
            "   ID    Name  Age   Location   Salary\n",
            "0   1     ram   25  kathmandu  35000.0\n",
            "1   2   shyam   20  kathmandu  36000.0\n",
            "2   3  kamala   33    pokhara  63000.0\n",
            "3   4  bimala   34    pokhara  43000.0\n",
            "4   5    hari   31        NaN  50000.0\n"
          ]
        }
      ]
    },
    {
      "cell_type": "code",
      "source": [
        "\n",
        "\n",
        "# Creating a DataFrame\n",
        "df = pd.DataFrame(data)\n",
        "\n",
        "# Calculating the mode\n",
        "mode = df['Location'].mode()  # The result is a Series, as there may be multiple modes\n",
        "\n",
        "# Filling the missing value in the 'Location' column\n",
        "df['Location'] = df['Location'].fillna(mode[0])\n",
        "print(df)\n",
        "\n"
      ],
      "metadata": {
        "colab": {
          "base_uri": "https://localhost:8080/"
        },
        "id": "ZsyWV5UjT32h",
        "outputId": "102faf9a-8791-4e95-e079-76c3af1fd8cb"
      },
      "execution_count": null,
      "outputs": [
        {
          "output_type": "stream",
          "name": "stdout",
          "text": [
            "   ID    Name  Age   Location   Salary\n",
            "0   1     ram   25  kathmandu  35000.0\n",
            "1   2   shyam   20  kathmandu  36000.0\n",
            "2   3  kamala   33    pokhara  63000.0\n",
            "3   4  bimala   34    pokhara      NaN\n",
            "4   5    hari   31  kathmandu  50000.0\n"
          ]
        }
      ]
    },
    {
      "cell_type": "code",
      "source": [
        "import numpy as np\n",
        "import pandas as pd\n",
        "import matplotlib.pyplot as plt\n",
        "x=['ram','shyam','kamala','bimala','hari']\n",
        "y=[35000,36000,63000,43000,50000]\n",
        "plt.bar(x,y)"
      ],
      "metadata": {
        "colab": {
          "base_uri": "https://localhost:8080/",
          "height": 447
        },
        "id": "NgEuY-btVU3L",
        "outputId": "078fa5fa-8e14-4e40-b52a-d6d801a41a6e"
      },
      "execution_count": null,
      "outputs": [
        {
          "output_type": "execute_result",
          "data": {
            "text/plain": [
              "<BarContainer object of 5 artists>"
            ]
          },
          "metadata": {},
          "execution_count": 10
        },
        {
          "output_type": "display_data",
          "data": {
            "text/plain": [
              "<Figure size 640x480 with 1 Axes>"
            ],
            "image/png": "[encoded data removed]"
          },
          "metadata": {}
        }
      ]
    },
    {
      "cell_type": "code",
      "source": [
        "import pandas as pd\n",
        "import numpy as np\n",
        "data = {\n",
        "  \"ID\": [1,2,3,4,5],\n",
        "  \"Name\": ['ram','shyam','kamala','bimala','hari'],\n",
        "    \"Age\":[25,20,33,34,31],\n",
        "    \"Location\":['kathmandu','kathmandu','pokhara','pokhara',np.nan],\n",
        "    \"Salary\":[35000,36000,63000,np.nan,50000]\n",
        "}\n",
        "df = pd.DataFrame(data)\n",
        "new = df.groupby('Location')['Salary'].mean().reset_index()\n",
        "print(new)"
      ],
      "metadata": {
        "colab": {
          "base_uri": "https://localhost:8080/"
        },
        "id": "II634Je9WuCz",
        "outputId": "c82f4ab3-29dd-47c9-d17c-f0833b96dd56"
      },
      "execution_count": null,
      "outputs": [
        {
          "output_type": "stream",
          "name": "stdout",
          "text": [
            "    Location   Salary\n",
            "0  kathmandu  35500.0\n",
            "1    pokhara  63000.0\n"
          ]
        }
      ]
    }
  ]
}